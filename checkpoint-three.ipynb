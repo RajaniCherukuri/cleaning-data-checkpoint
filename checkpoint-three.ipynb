{
 "cells": [
  {
   "cell_type": "markdown",
   "metadata": {
    "azdata_cell_guid": "26037d32-2047-4157-81ef-595916bd66a0"
   },
   "source": [
    "# Checkpoint Three: Cleaning Data\n",
    "\n",
    "Now you are ready to clean your data. Before starting coding, provide the link to your dataset below.\n",
    "Business Issue: In order to make statistically informed trades, I are looking at the growth of the S&P 500 stocks over the years and what exactly comprises the S&P 500 in terms of composition of various stocks and sectors.We will also attempt to answer the following queries:\n",
    "\n",
    "--1.Which are the top 5 companies in the S&P 500 based on market capitalisation and EBITDA?\n",
    "\n",
    "--2.Which sectors does the S&P 500 primarily constitute of and what are the top 10 sectors?\n",
    "\n",
    "--3.How did the top 5 companies perform over the past 5 years?\n",
    "\n",
    "My dataset:\n",
    "https://www.kaggle.com/datasets/andrewmvd/sp-500-stocks\n",
    "\n",
    "Import the necessary libraries and create your dataframe(s)."
   ]
  },
  {
   "cell_type": "code",
   "execution_count": 2,
   "metadata": {
    "azdata_cell_guid": "e8adef8e-d0f2-4640-a179-5997f11e82ca"
   },
   "outputs": [],
   "source": [
    "import pandas as pd\n",
    "import numpy as np\n",
    "import matplotlib.pyplot as plt\n",
    "import seaborn as sns\n",
    "df_spc = pd.read_csv('sp500_companies.csv')\n",
    "df_spi = pd.read_csv('S&P500_index.csv')\n",
    "Apple = pd.read_csv('AAPL.csv')\n",
    "Google = pd.read_csv('GOOGL.csv')\n",
    "Microsoft = pd.read_csv('MSFT.csv')\n",
    "Tesla = pd.read_csv('TSLA.csv')\n",
    "Amazon = pd.read_csv('AMZN.csv')"
   ]
  },
  {
   "cell_type": "markdown",
   "metadata": {
    "azdata_cell_guid": "e172475a-c4ee-414a-8367-9965355dbba6"
   },
   "source": [
    "## Missing Data\n",
    "\n",
    "Test your dataset for missing data and handle it as needed. Make notes in the form of code comments as to your thought process."
   ]
  },
  {
   "cell_type": "code",
   "execution_count": 2,
   "metadata": {
    "azdata_cell_guid": "e1dc66ef-e471-4c27-92e7-ee878c106eba"
   },
   "outputs": [
    {
     "data": {
      "text/html": [
       "<div>\n",
       "<style scoped>\n",
       "    .dataframe tbody tr th:only-of-type {\n",
       "        vertical-align: middle;\n",
       "    }\n",
       "\n",
       "    .dataframe tbody tr th {\n",
       "        vertical-align: top;\n",
       "    }\n",
       "\n",
       "    .dataframe thead th {\n",
       "        text-align: right;\n",
       "    }\n",
       "</style>\n",
       "<table border=\"1\" class=\"dataframe\">\n",
       "  <thead>\n",
       "    <tr style=\"text-align: right;\">\n",
       "      <th></th>\n",
       "      <th>Exchange</th>\n",
       "      <th>Symbol</th>\n",
       "      <th>Shortname</th>\n",
       "      <th>Longname</th>\n",
       "      <th>Sector</th>\n",
       "      <th>Industry</th>\n",
       "      <th>Currentprice</th>\n",
       "      <th>Marketcap</th>\n",
       "      <th>Ebitda</th>\n",
       "      <th>Revenuegrowth</th>\n",
       "      <th>City</th>\n",
       "      <th>State</th>\n",
       "      <th>Country</th>\n",
       "      <th>Fulltimeemployees</th>\n",
       "      <th>Longbusinesssummary</th>\n",
       "      <th>Weight</th>\n",
       "    </tr>\n",
       "  </thead>\n",
       "  <tbody>\n",
       "    <tr>\n",
       "      <th>0</th>\n",
       "      <td>NMS</td>\n",
       "      <td>AAPL</td>\n",
       "      <td>Apple Inc.</td>\n",
       "      <td>Apple Inc.</td>\n",
       "      <td>Technology</td>\n",
       "      <td>Consumer Electronics</td>\n",
       "      <td>151.60</td>\n",
       "      <td>2487210213376</td>\n",
       "      <td>1.306340e+11</td>\n",
       "      <td>0.086</td>\n",
       "      <td>Cupertino</td>\n",
       "      <td>CA</td>\n",
       "      <td>United States</td>\n",
       "      <td>154000.0</td>\n",
       "      <td>Apple Inc. designs, manufactures, and markets ...</td>\n",
       "      <td>0.078540</td>\n",
       "    </tr>\n",
       "    <tr>\n",
       "      <th>1</th>\n",
       "      <td>NMS</td>\n",
       "      <td>MSFT</td>\n",
       "      <td>Microsoft Corporation</td>\n",
       "      <td>Microsoft Corporation</td>\n",
       "      <td>Technology</td>\n",
       "      <td>Software—Infrastructure</td>\n",
       "      <td>251.90</td>\n",
       "      <td>1891260039168</td>\n",
       "      <td>9.498300e+10</td>\n",
       "      <td>0.184</td>\n",
       "      <td>Redmond</td>\n",
       "      <td>WA</td>\n",
       "      <td>United States</td>\n",
       "      <td>181000.0</td>\n",
       "      <td>Microsoft Corporation develops, licenses, and ...</td>\n",
       "      <td>0.059721</td>\n",
       "    </tr>\n",
       "    <tr>\n",
       "      <th>2</th>\n",
       "      <td>NMS</td>\n",
       "      <td>TSLA</td>\n",
       "      <td>Tesla, Inc.</td>\n",
       "      <td>Tesla, Inc.</td>\n",
       "      <td>Consumer Cyclical</td>\n",
       "      <td>Auto Manufacturers</td>\n",
       "      <td>776.58</td>\n",
       "      <td>779888230400</td>\n",
       "      <td>1.270200e+10</td>\n",
       "      <td>0.805</td>\n",
       "      <td>Austin</td>\n",
       "      <td>TX</td>\n",
       "      <td>United States</td>\n",
       "      <td>99290.0</td>\n",
       "      <td>Tesla, Inc. designs, develops, manufactures, l...</td>\n",
       "      <td>0.024627</td>\n",
       "    </tr>\n",
       "    <tr>\n",
       "      <th>3</th>\n",
       "      <td>NYQ</td>\n",
       "      <td>BRK-B</td>\n",
       "      <td>Berkshire Hathaway Inc. New</td>\n",
       "      <td>Berkshire Hathaway Inc.</td>\n",
       "      <td>Financial Services</td>\n",
       "      <td>Insurance—Diversified</td>\n",
       "      <td>285.31</td>\n",
       "      <td>638886084608</td>\n",
       "      <td>1.255810e+11</td>\n",
       "      <td>0.115</td>\n",
       "      <td>Omaha</td>\n",
       "      <td>NE</td>\n",
       "      <td>United States</td>\n",
       "      <td>372000.0</td>\n",
       "      <td>Berkshire Hathaway Inc., through its subsidiar...</td>\n",
       "      <td>0.020174</td>\n",
       "    </tr>\n",
       "    <tr>\n",
       "      <th>4</th>\n",
       "      <td>NYQ</td>\n",
       "      <td>UNH</td>\n",
       "      <td>UnitedHealth Group Incorporated</td>\n",
       "      <td>UnitedHealth Group Incorporated</td>\n",
       "      <td>Healthcare</td>\n",
       "      <td>Healthcare Plans</td>\n",
       "      <td>531.59</td>\n",
       "      <td>500678590464</td>\n",
       "      <td>2.639100e+10</td>\n",
       "      <td>0.142</td>\n",
       "      <td>Minnetonka</td>\n",
       "      <td>MN</td>\n",
       "      <td>United States</td>\n",
       "      <td>350000.0</td>\n",
       "      <td>UnitedHealth Group Incorporated operates as a ...</td>\n",
       "      <td>0.015810</td>\n",
       "    </tr>\n",
       "  </tbody>\n",
       "</table>\n",
       "</div>"
      ],
      "text/plain": [
       "  Exchange Symbol                        Shortname  \\\n",
       "0      NMS   AAPL                       Apple Inc.   \n",
       "1      NMS   MSFT            Microsoft Corporation   \n",
       "2      NMS   TSLA                      Tesla, Inc.   \n",
       "3      NYQ  BRK-B      Berkshire Hathaway Inc. New   \n",
       "4      NYQ    UNH  UnitedHealth Group Incorporated   \n",
       "\n",
       "                          Longname              Sector  \\\n",
       "0                       Apple Inc.          Technology   \n",
       "1            Microsoft Corporation          Technology   \n",
       "2                      Tesla, Inc.   Consumer Cyclical   \n",
       "3          Berkshire Hathaway Inc.  Financial Services   \n",
       "4  UnitedHealth Group Incorporated          Healthcare   \n",
       "\n",
       "                  Industry  Currentprice      Marketcap        Ebitda  \\\n",
       "0     Consumer Electronics        151.60  2487210213376  1.306340e+11   \n",
       "1  Software—Infrastructure        251.90  1891260039168  9.498300e+10   \n",
       "2       Auto Manufacturers        776.58   779888230400  1.270200e+10   \n",
       "3    Insurance—Diversified        285.31   638886084608  1.255810e+11   \n",
       "4         Healthcare Plans        531.59   500678590464  2.639100e+10   \n",
       "\n",
       "   Revenuegrowth        City State        Country  Fulltimeemployees  \\\n",
       "0          0.086   Cupertino    CA  United States           154000.0   \n",
       "1          0.184     Redmond    WA  United States           181000.0   \n",
       "2          0.805      Austin    TX  United States            99290.0   \n",
       "3          0.115       Omaha    NE  United States           372000.0   \n",
       "4          0.142  Minnetonka    MN  United States           350000.0   \n",
       "\n",
       "                                 Longbusinesssummary    Weight  \n",
       "0  Apple Inc. designs, manufactures, and markets ...  0.078540  \n",
       "1  Microsoft Corporation develops, licenses, and ...  0.059721  \n",
       "2  Tesla, Inc. designs, develops, manufactures, l...  0.024627  \n",
       "3  Berkshire Hathaway Inc., through its subsidiar...  0.020174  \n",
       "4  UnitedHealth Group Incorporated operates as a ...  0.015810  "
      ]
     },
     "execution_count": 2,
     "metadata": {},
     "output_type": "execute_result"
    }
   ],
   "source": [
    "df_spc.head()"
   ]
  },
  {
   "cell_type": "code",
   "execution_count": 3,
   "metadata": {},
   "outputs": [
    {
     "data": {
      "text/plain": [
       "Exchange                0\n",
       "Symbol                  0\n",
       "Shortname               0\n",
       "Longname                0\n",
       "Sector                  0\n",
       "Industry                0\n",
       "Currentprice            0\n",
       "Marketcap               0\n",
       "Ebitda                 30\n",
       "Revenuegrowth           1\n",
       "City                    0\n",
       "State                  19\n",
       "Country                 0\n",
       "Fulltimeemployees       2\n",
       "Longbusinesssummary     0\n",
       "Weight                  0\n",
       "dtype: int64"
      ]
     },
     "execution_count": 3,
     "metadata": {},
     "output_type": "execute_result"
    }
   ],
   "source": [
    "df_spc.isnull().sum()\n",
    "#Columns with null values(missing data)-\n",
    "# ebitda=30,\n",
    "# Revenuegrowth=1,\n",
    "# state=19,\n",
    "# Fulltimeemployees=2\n",
    "#Dropped state column because it is not required for the analysis.\n",
    "#Replace with actual values for Revenuegrowth and FulLtimeemployees.\n",
    "#Replace with 'UNKNOWN' for ebitda because I did not find accurate data."
   ]
  },
  {
   "cell_type": "code",
   "execution_count": 4,
   "metadata": {},
   "outputs": [
    {
     "name": "stdout",
     "output_type": "stream",
     "text": [
      "<class 'pandas.core.frame.DataFrame'>\n",
      "RangeIndex: 493 entries, 0 to 492\n",
      "Data columns (total 16 columns):\n",
      " #   Column               Non-Null Count  Dtype  \n",
      "---  ------               --------------  -----  \n",
      " 0   Exchange             493 non-null    object \n",
      " 1   Symbol               493 non-null    object \n",
      " 2   Shortname            493 non-null    object \n",
      " 3   Longname             493 non-null    object \n",
      " 4   Sector               493 non-null    object \n",
      " 5   Industry             493 non-null    object \n",
      " 6   Currentprice         493 non-null    float64\n",
      " 7   Marketcap            493 non-null    int64  \n",
      " 8   Ebitda               463 non-null    float64\n",
      " 9   Revenuegrowth        492 non-null    float64\n",
      " 10  City                 493 non-null    object \n",
      " 11  State                474 non-null    object \n",
      " 12  Country              493 non-null    object \n",
      " 13  Fulltimeemployees    491 non-null    float64\n",
      " 14  Longbusinesssummary  493 non-null    object \n",
      " 15  Weight               493 non-null    float64\n",
      "dtypes: float64(5), int64(1), object(10)\n",
      "memory usage: 61.8+ KB\n"
     ]
    }
   ],
   "source": [
    "df_spc.info()"
   ]
  },
  {
   "cell_type": "code",
   "execution_count": 47,
   "metadata": {},
   "outputs": [
    {
     "data": {
      "text/html": [
       "<div>\n",
       "<style scoped>\n",
       "    .dataframe tbody tr th:only-of-type {\n",
       "        vertical-align: middle;\n",
       "    }\n",
       "\n",
       "    .dataframe tbody tr th {\n",
       "        vertical-align: top;\n",
       "    }\n",
       "\n",
       "    .dataframe thead th {\n",
       "        text-align: right;\n",
       "    }\n",
       "</style>\n",
       "<table border=\"1\" class=\"dataframe\">\n",
       "  <thead>\n",
       "    <tr style=\"text-align: right;\">\n",
       "      <th></th>\n",
       "      <th>Exchange</th>\n",
       "      <th>Symbol</th>\n",
       "      <th>Shortname</th>\n",
       "      <th>Longname</th>\n",
       "      <th>Sector</th>\n",
       "      <th>Industry</th>\n",
       "      <th>Currentprice</th>\n",
       "      <th>Marketcap</th>\n",
       "      <th>Ebitda</th>\n",
       "      <th>Revenuegrowth</th>\n",
       "      <th>City</th>\n",
       "      <th>State</th>\n",
       "      <th>Country</th>\n",
       "      <th>Fulltimeemployees</th>\n",
       "      <th>Longbusinesssummary</th>\n",
       "      <th>Weight</th>\n",
       "    </tr>\n",
       "  </thead>\n",
       "  <tbody>\n",
       "    <tr>\n",
       "      <th>52</th>\n",
       "      <td>NYQ</td>\n",
       "      <td>CVS</td>\n",
       "      <td>CVS Health Corporation</td>\n",
       "      <td>CVS Health Corporation</td>\n",
       "      <td>Healthcare</td>\n",
       "      <td>Healthcare Plans</td>\n",
       "      <td>95.31</td>\n",
       "      <td>125814915072</td>\n",
       "      <td>1.828900e+10</td>\n",
       "      <td>0.113</td>\n",
       "      <td>Woonsocket</td>\n",
       "      <td>RI</td>\n",
       "      <td>United States</td>\n",
       "      <td>216000.0</td>\n",
       "      <td>CVS Health Corporation provides health service...</td>\n",
       "      <td>0.003973</td>\n",
       "    </tr>\n",
       "  </tbody>\n",
       "</table>\n",
       "</div>"
      ],
      "text/plain": [
       "   Exchange Symbol               Shortname                Longname  \\\n",
       "52      NYQ    CVS  CVS Health Corporation  CVS Health Corporation   \n",
       "\n",
       "        Sector          Industry  Currentprice     Marketcap        Ebitda  \\\n",
       "52  Healthcare  Healthcare Plans         95.31  125814915072  1.828900e+10   \n",
       "\n",
       "    Revenuegrowth        City State        Country  Fulltimeemployees  \\\n",
       "52          0.113  Woonsocket    RI  United States           216000.0   \n",
       "\n",
       "                                  Longbusinesssummary    Weight  \n",
       "52  CVS Health Corporation provides health service...  0.003973  "
      ]
     },
     "execution_count": 47,
     "metadata": {},
     "output_type": "execute_result"
    }
   ],
   "source": [
    "df_spc[\"Revenuegrowth\"].fillna(float(0.113), inplace = True,limit=1)\n",
    "#df_spc_new[df_spc_new['Revenuegrowth'].isnull()]\n",
    "# df_spc_new.info()\n",
    "# df_spc_new.iloc[52]\n",
    "df_spc[df_spc['Symbol'] == 'CVS']"
   ]
  },
  {
   "cell_type": "code",
   "execution_count": 48,
   "metadata": {},
   "outputs": [
    {
     "data": {
      "text/html": [
       "<div>\n",
       "<style scoped>\n",
       "    .dataframe tbody tr th:only-of-type {\n",
       "        vertical-align: middle;\n",
       "    }\n",
       "\n",
       "    .dataframe tbody tr th {\n",
       "        vertical-align: top;\n",
       "    }\n",
       "\n",
       "    .dataframe thead th {\n",
       "        text-align: right;\n",
       "    }\n",
       "</style>\n",
       "<table border=\"1\" class=\"dataframe\">\n",
       "  <thead>\n",
       "    <tr style=\"text-align: right;\">\n",
       "      <th></th>\n",
       "      <th>Exchange</th>\n",
       "      <th>Symbol</th>\n",
       "      <th>Shortname</th>\n",
       "      <th>Longname</th>\n",
       "      <th>Sector</th>\n",
       "      <th>Industry</th>\n",
       "      <th>Currentprice</th>\n",
       "      <th>Marketcap</th>\n",
       "      <th>Ebitda</th>\n",
       "      <th>Revenuegrowth</th>\n",
       "      <th>City</th>\n",
       "      <th>State</th>\n",
       "      <th>Country</th>\n",
       "      <th>Fulltimeemployees</th>\n",
       "      <th>Longbusinesssummary</th>\n",
       "      <th>Weight</th>\n",
       "    </tr>\n",
       "  </thead>\n",
       "  <tbody>\n",
       "    <tr>\n",
       "      <th>144</th>\n",
       "      <td>NYQ</td>\n",
       "      <td>MET</td>\n",
       "      <td>MetLife, Inc.</td>\n",
       "      <td>MetLife, Inc.</td>\n",
       "      <td>Financial Services</td>\n",
       "      <td>Insurance—Life</td>\n",
       "      <td>61.25</td>\n",
       "      <td>51521048576</td>\n",
       "      <td>9.504000e+09</td>\n",
       "      <td>0.035</td>\n",
       "      <td>New York</td>\n",
       "      <td>NY</td>\n",
       "      <td>United States</td>\n",
       "      <td>49000.0</td>\n",
       "      <td>MetLife, Inc., a financial services company, p...</td>\n",
       "      <td>0.001627</td>\n",
       "    </tr>\n",
       "  </tbody>\n",
       "</table>\n",
       "</div>"
      ],
      "text/plain": [
       "    Exchange Symbol      Shortname       Longname              Sector  \\\n",
       "144      NYQ    MET  MetLife, Inc.  MetLife, Inc.  Financial Services   \n",
       "\n",
       "           Industry  Currentprice    Marketcap        Ebitda  Revenuegrowth  \\\n",
       "144  Insurance—Life         61.25  51521048576  9.504000e+09          0.035   \n",
       "\n",
       "         City State        Country  Fulltimeemployees  \\\n",
       "144  New York    NY  United States            49000.0   \n",
       "\n",
       "                                   Longbusinesssummary    Weight  \n",
       "144  MetLife, Inc., a financial services company, p...  0.001627  "
      ]
     },
     "execution_count": 48,
     "metadata": {},
     "output_type": "execute_result"
    }
   ],
   "source": [
    "df_spc[df_spc['Fulltimeemployees'].isnull()]\n",
    "df_spc[\"Fulltimeemployees\"].fillna(float(49000),inplace = True,limit=1)\n",
    "df_spc[df_spc['Symbol'] == 'MET']\n"
   ]
  },
  {
   "cell_type": "code",
   "execution_count": 50,
   "metadata": {},
   "outputs": [
    {
     "data": {
      "text/html": [
       "<div>\n",
       "<style scoped>\n",
       "    .dataframe tbody tr th:only-of-type {\n",
       "        vertical-align: middle;\n",
       "    }\n",
       "\n",
       "    .dataframe tbody tr th {\n",
       "        vertical-align: top;\n",
       "    }\n",
       "\n",
       "    .dataframe thead th {\n",
       "        text-align: right;\n",
       "    }\n",
       "</style>\n",
       "<table border=\"1\" class=\"dataframe\">\n",
       "  <thead>\n",
       "    <tr style=\"text-align: right;\">\n",
       "      <th></th>\n",
       "      <th>Exchange</th>\n",
       "      <th>Symbol</th>\n",
       "      <th>Shortname</th>\n",
       "      <th>Longname</th>\n",
       "      <th>Sector</th>\n",
       "      <th>Industry</th>\n",
       "      <th>Currentprice</th>\n",
       "      <th>Marketcap</th>\n",
       "      <th>Ebitda</th>\n",
       "      <th>Revenuegrowth</th>\n",
       "      <th>City</th>\n",
       "      <th>State</th>\n",
       "      <th>Country</th>\n",
       "      <th>Fulltimeemployees</th>\n",
       "      <th>Longbusinesssummary</th>\n",
       "      <th>Weight</th>\n",
       "    </tr>\n",
       "  </thead>\n",
       "  <tbody>\n",
       "    <tr>\n",
       "      <th>420</th>\n",
       "      <td>NMS</td>\n",
       "      <td>CTXS</td>\n",
       "      <td>Citrix Systems, Inc.</td>\n",
       "      <td>Citrix Systems, Inc.</td>\n",
       "      <td>Technology</td>\n",
       "      <td>Software—Application</td>\n",
       "      <td>101.0</td>\n",
       "      <td>12597022720</td>\n",
       "      <td>575734016.0</td>\n",
       "      <td>0.051</td>\n",
       "      <td>Fort Lauderdale</td>\n",
       "      <td>FL</td>\n",
       "      <td>United States</td>\n",
       "      <td>9700.0</td>\n",
       "      <td>Citrix Systems, Inc., an enterprise software c...</td>\n",
       "      <td>0.000398</td>\n",
       "    </tr>\n",
       "  </tbody>\n",
       "</table>\n",
       "</div>"
      ],
      "text/plain": [
       "    Exchange Symbol             Shortname              Longname      Sector  \\\n",
       "420      NMS   CTXS  Citrix Systems, Inc.  Citrix Systems, Inc.  Technology   \n",
       "\n",
       "                 Industry  Currentprice    Marketcap       Ebitda  \\\n",
       "420  Software—Application         101.0  12597022720  575734016.0   \n",
       "\n",
       "     Revenuegrowth             City State        Country  Fulltimeemployees  \\\n",
       "420          0.051  Fort Lauderdale    FL  United States             9700.0   \n",
       "\n",
       "                                   Longbusinesssummary    Weight  \n",
       "420  Citrix Systems, Inc., an enterprise software c...  0.000398  "
      ]
     },
     "execution_count": 50,
     "metadata": {},
     "output_type": "execute_result"
    }
   ],
   "source": [
    "df_spc[df_spc['Fulltimeemployees'].isnull()]\n",
    "df_spc[\"Fulltimeemployees\"].fillna(float(9700),inplace = True,limit=1)\n",
    "df_spc[df_spc['Symbol'] == 'CTXS']\n",
    "#df_spc_new[df_spc_new['Fulltimeemployees'].isnull()]"
   ]
  },
  {
   "cell_type": "code",
   "execution_count": 71,
   "metadata": {},
   "outputs": [
    {
     "data": {
      "text/html": [
       "<div>\n",
       "<style scoped>\n",
       "    .dataframe tbody tr th:only-of-type {\n",
       "        vertical-align: middle;\n",
       "    }\n",
       "\n",
       "    .dataframe tbody tr th {\n",
       "        vertical-align: top;\n",
       "    }\n",
       "\n",
       "    .dataframe thead th {\n",
       "        text-align: right;\n",
       "    }\n",
       "</style>\n",
       "<table border=\"1\" class=\"dataframe\">\n",
       "  <thead>\n",
       "    <tr style=\"text-align: right;\">\n",
       "      <th></th>\n",
       "      <th>Exchange</th>\n",
       "      <th>Symbol</th>\n",
       "      <th>Longname</th>\n",
       "      <th>Sector</th>\n",
       "      <th>Industry</th>\n",
       "      <th>Currentprice</th>\n",
       "      <th>Marketcap</th>\n",
       "      <th>Ebitda</th>\n",
       "      <th>Revenuegrowth</th>\n",
       "      <th>Country</th>\n",
       "      <th>Fulltimeemployees</th>\n",
       "      <th>Weight</th>\n",
       "    </tr>\n",
       "  </thead>\n",
       "  <tbody>\n",
       "    <tr>\n",
       "      <th>9</th>\n",
       "      <td>NYQ</td>\n",
       "      <td>JPM</td>\n",
       "      <td>JPMorgan Chase &amp; Co.</td>\n",
       "      <td>Financial Services</td>\n",
       "      <td>Banks—Diversified</td>\n",
       "      <td>113.42</td>\n",
       "      <td>343474307072</td>\n",
       "      <td>UNKNOWN</td>\n",
       "      <td>-0.197</td>\n",
       "      <td>United States</td>\n",
       "      <td>273948.0</td>\n",
       "      <td>0.010846</td>\n",
       "    </tr>\n",
       "  </tbody>\n",
       "</table>\n",
       "</div>"
      ],
      "text/plain": [
       "  Exchange Symbol              Longname              Sector  \\\n",
       "9      NYQ    JPM  JPMorgan Chase & Co.  Financial Services   \n",
       "\n",
       "            Industry  Currentprice     Marketcap   Ebitda  Revenuegrowth  \\\n",
       "9  Banks—Diversified        113.42  343474307072  UNKNOWN         -0.197   \n",
       "\n",
       "         Country  Fulltimeemployees    Weight  \n",
       "9  United States           273948.0  0.010846  "
      ]
     },
     "execution_count": 71,
     "metadata": {},
     "output_type": "execute_result"
    }
   ],
   "source": [
    "df_spc[df_spc['Ebitda'].isnull()]\n",
    "#All the null values for Ebitda are for financial sector.\n",
    "#I did not find accurate values,so at present I will replace the null values with'unknown'.\n",
    "df_spc[\"Ebitda\"].fillna('UNKNOWN',inplace = True)\n",
    "df_spc[df_spc['Ebitda'].isnull()]\n",
    "df_spc[df_spc['Symbol'] == 'JPM']"
   ]
  },
  {
   "cell_type": "markdown",
   "metadata": {
    "azdata_cell_guid": "1233f543-e9a0-4f78-96f5-d7536554102e"
   },
   "source": [
    "## Irregular Data\n",
    "\n",
    "Detect outliers in your dataset and handle them as needed. Use code comments to make notes about your thought process."
   ]
  },
  {
   "cell_type": "code",
   "execution_count": 10,
   "metadata": {
    "azdata_cell_guid": "efed50ae-16f0-471d-98e2-632553a74c12"
   },
   "outputs": [
    {
     "data": {
      "text/html": [
       "<div>\n",
       "<style scoped>\n",
       "    .dataframe tbody tr th:only-of-type {\n",
       "        vertical-align: middle;\n",
       "    }\n",
       "\n",
       "    .dataframe tbody tr th {\n",
       "        vertical-align: top;\n",
       "    }\n",
       "\n",
       "    .dataframe thead th {\n",
       "        text-align: right;\n",
       "    }\n",
       "</style>\n",
       "<table border=\"1\" class=\"dataframe\">\n",
       "  <thead>\n",
       "    <tr style=\"text-align: right;\">\n",
       "      <th></th>\n",
       "      <th>Currentprice</th>\n",
       "      <th>Marketcap</th>\n",
       "      <th>Ebitda</th>\n",
       "      <th>Revenuegrowth</th>\n",
       "      <th>Fulltimeemployees</th>\n",
       "      <th>Weight</th>\n",
       "    </tr>\n",
       "  </thead>\n",
       "  <tbody>\n",
       "    <tr>\n",
       "      <th>count</th>\n",
       "      <td>493.000000</td>\n",
       "      <td>4.930000e+02</td>\n",
       "      <td>4.630000e+02</td>\n",
       "      <td>493.000000</td>\n",
       "      <td>4.910000e+02</td>\n",
       "      <td>493.000000</td>\n",
       "    </tr>\n",
       "    <tr>\n",
       "      <th>mean</th>\n",
       "      <td>162.398884</td>\n",
       "      <td>6.423573e+10</td>\n",
       "      <td>6.055417e+09</td>\n",
       "      <td>0.527308</td>\n",
       "      <td>5.540377e+04</td>\n",
       "      <td>0.002028</td>\n",
       "    </tr>\n",
       "    <tr>\n",
       "      <th>std</th>\n",
       "      <td>262.710729</td>\n",
       "      <td>1.588148e+11</td>\n",
       "      <td>1.305708e+10</td>\n",
       "      <td>3.833335</td>\n",
       "      <td>1.458281e+05</td>\n",
       "      <td>0.005015</td>\n",
       "    </tr>\n",
       "    <tr>\n",
       "      <th>min</th>\n",
       "      <td>8.500000</td>\n",
       "      <td>4.060800e+09</td>\n",
       "      <td>-4.011000e+09</td>\n",
       "      <td>-0.454000</td>\n",
       "      <td>1.050000e+02</td>\n",
       "      <td>0.000128</td>\n",
       "    </tr>\n",
       "    <tr>\n",
       "      <th>25%</th>\n",
       "      <td>58.250000</td>\n",
       "      <td>1.599014e+10</td>\n",
       "      <td>1.285896e+09</td>\n",
       "      <td>0.047000</td>\n",
       "      <td>9.514000e+03</td>\n",
       "      <td>0.000505</td>\n",
       "    </tr>\n",
       "    <tr>\n",
       "      <th>50%</th>\n",
       "      <td>102.500000</td>\n",
       "      <td>2.882696e+10</td>\n",
       "      <td>2.565300e+09</td>\n",
       "      <td>0.113000</td>\n",
       "      <td>1.930000e+04</td>\n",
       "      <td>0.000910</td>\n",
       "    </tr>\n",
       "    <tr>\n",
       "      <th>75%</th>\n",
       "      <td>193.070000</td>\n",
       "      <td>6.070308e+10</td>\n",
       "      <td>5.302000e+09</td>\n",
       "      <td>0.220000</td>\n",
       "      <td>5.315000e+04</td>\n",
       "      <td>0.001917</td>\n",
       "    </tr>\n",
       "    <tr>\n",
       "      <th>max</th>\n",
       "      <td>4360.020000</td>\n",
       "      <td>2.487210e+12</td>\n",
       "      <td>1.306340e+11</td>\n",
       "      <td>61.423000</td>\n",
       "      <td>2.300000e+06</td>\n",
       "      <td>0.078540</td>\n",
       "    </tr>\n",
       "  </tbody>\n",
       "</table>\n",
       "</div>"
      ],
      "text/plain": [
       "       Currentprice     Marketcap        Ebitda  Revenuegrowth  \\\n",
       "count    493.000000  4.930000e+02  4.630000e+02     493.000000   \n",
       "mean     162.398884  6.423573e+10  6.055417e+09       0.527308   \n",
       "std      262.710729  1.588148e+11  1.305708e+10       3.833335   \n",
       "min        8.500000  4.060800e+09 -4.011000e+09      -0.454000   \n",
       "25%       58.250000  1.599014e+10  1.285896e+09       0.047000   \n",
       "50%      102.500000  2.882696e+10  2.565300e+09       0.113000   \n",
       "75%      193.070000  6.070308e+10  5.302000e+09       0.220000   \n",
       "max     4360.020000  2.487210e+12  1.306340e+11      61.423000   \n",
       "\n",
       "       Fulltimeemployees      Weight  \n",
       "count       4.910000e+02  493.000000  \n",
       "mean        5.540377e+04    0.002028  \n",
       "std         1.458281e+05    0.005015  \n",
       "min         1.050000e+02    0.000128  \n",
       "25%         9.514000e+03    0.000505  \n",
       "50%         1.930000e+04    0.000910  \n",
       "75%         5.315000e+04    0.001917  \n",
       "max         2.300000e+06    0.078540  "
      ]
     },
     "execution_count": 10,
     "metadata": {},
     "output_type": "execute_result"
    }
   ],
   "source": [
    "df_spc.describe()"
   ]
  },
  {
   "cell_type": "code",
   "execution_count": 69,
   "metadata": {},
   "outputs": [],
   "source": [
    "#Outliers\n",
    "#df_spc.boxplot(column=['Ebitda'])\n",
    "# df_spc_new\n",
    "# df_spc_new.boxplot(column=['Marketcap'])\n",
    "#df_spc['Ebtida'].hist()\n",
    "sns.boxplot(df_spc)\n",
    "#There are some outliers.I would like to keep it for now.\n"
   ]
  },
  {
   "cell_type": "markdown",
   "metadata": {
    "azdata_cell_guid": "6f5b8ee0-bab3-44bc-958a-67d1e4c0407f"
   },
   "source": [
    "## Unnecessary Data\n",
    "\n",
    "Look for the different types of unnecessary data in your dataset and address it as needed. Make sure to use code comments to illustrate your thought process."
   ]
  },
  {
   "cell_type": "code",
   "execution_count": 66,
   "metadata": {
    "azdata_cell_guid": "e788a239-2fbf-41de-9bd3-19e52e3b187c"
   },
   "outputs": [
    {
     "data": {
      "text/html": [
       "<div>\n",
       "<style scoped>\n",
       "    .dataframe tbody tr th:only-of-type {\n",
       "        vertical-align: middle;\n",
       "    }\n",
       "\n",
       "    .dataframe tbody tr th {\n",
       "        vertical-align: top;\n",
       "    }\n",
       "\n",
       "    .dataframe thead th {\n",
       "        text-align: right;\n",
       "    }\n",
       "</style>\n",
       "<table border=\"1\" class=\"dataframe\">\n",
       "  <thead>\n",
       "    <tr style=\"text-align: right;\">\n",
       "      <th></th>\n",
       "      <th>Exchange</th>\n",
       "      <th>Symbol</th>\n",
       "      <th>Longname</th>\n",
       "      <th>Sector</th>\n",
       "      <th>Industry</th>\n",
       "      <th>Currentprice</th>\n",
       "      <th>Marketcap</th>\n",
       "      <th>Ebitda</th>\n",
       "      <th>Revenuegrowth</th>\n",
       "      <th>Country</th>\n",
       "      <th>Fulltimeemployees</th>\n",
       "      <th>Weight</th>\n",
       "    </tr>\n",
       "  </thead>\n",
       "  <tbody>\n",
       "    <tr>\n",
       "      <th>0</th>\n",
       "      <td>NMS</td>\n",
       "      <td>AAPL</td>\n",
       "      <td>Apple Inc.</td>\n",
       "      <td>Technology</td>\n",
       "      <td>Consumer Electronics</td>\n",
       "      <td>151.60</td>\n",
       "      <td>2487210213376</td>\n",
       "      <td>130633998336.0</td>\n",
       "      <td>0.086</td>\n",
       "      <td>United States</td>\n",
       "      <td>154000.0</td>\n",
       "      <td>0.078540</td>\n",
       "    </tr>\n",
       "    <tr>\n",
       "      <th>1</th>\n",
       "      <td>NMS</td>\n",
       "      <td>MSFT</td>\n",
       "      <td>Microsoft Corporation</td>\n",
       "      <td>Technology</td>\n",
       "      <td>Software—Infrastructure</td>\n",
       "      <td>251.90</td>\n",
       "      <td>1891260039168</td>\n",
       "      <td>94982995968.0</td>\n",
       "      <td>0.184</td>\n",
       "      <td>United States</td>\n",
       "      <td>181000.0</td>\n",
       "      <td>0.059721</td>\n",
       "    </tr>\n",
       "    <tr>\n",
       "      <th>2</th>\n",
       "      <td>NMS</td>\n",
       "      <td>TSLA</td>\n",
       "      <td>Tesla, Inc.</td>\n",
       "      <td>Consumer Cyclical</td>\n",
       "      <td>Auto Manufacturers</td>\n",
       "      <td>776.58</td>\n",
       "      <td>779888230400</td>\n",
       "      <td>12702000128.0</td>\n",
       "      <td>0.805</td>\n",
       "      <td>United States</td>\n",
       "      <td>99290.0</td>\n",
       "      <td>0.024627</td>\n",
       "    </tr>\n",
       "    <tr>\n",
       "      <th>3</th>\n",
       "      <td>NYQ</td>\n",
       "      <td>BRK-B</td>\n",
       "      <td>Berkshire Hathaway Inc.</td>\n",
       "      <td>Financial Services</td>\n",
       "      <td>Insurance—Diversified</td>\n",
       "      <td>285.31</td>\n",
       "      <td>638886084608</td>\n",
       "      <td>125581000704.0</td>\n",
       "      <td>0.115</td>\n",
       "      <td>United States</td>\n",
       "      <td>372000.0</td>\n",
       "      <td>0.020174</td>\n",
       "    </tr>\n",
       "    <tr>\n",
       "      <th>4</th>\n",
       "      <td>NYQ</td>\n",
       "      <td>UNH</td>\n",
       "      <td>UnitedHealth Group Incorporated</td>\n",
       "      <td>Healthcare</td>\n",
       "      <td>Healthcare Plans</td>\n",
       "      <td>531.59</td>\n",
       "      <td>500678590464</td>\n",
       "      <td>26390999040.0</td>\n",
       "      <td>0.142</td>\n",
       "      <td>United States</td>\n",
       "      <td>350000.0</td>\n",
       "      <td>0.015810</td>\n",
       "    </tr>\n",
       "  </tbody>\n",
       "</table>\n",
       "</div>"
      ],
      "text/plain": [
       "  Exchange Symbol                         Longname              Sector  \\\n",
       "0      NMS   AAPL                       Apple Inc.          Technology   \n",
       "1      NMS   MSFT            Microsoft Corporation          Technology   \n",
       "2      NMS   TSLA                      Tesla, Inc.   Consumer Cyclical   \n",
       "3      NYQ  BRK-B          Berkshire Hathaway Inc.  Financial Services   \n",
       "4      NYQ    UNH  UnitedHealth Group Incorporated          Healthcare   \n",
       "\n",
       "                  Industry  Currentprice      Marketcap          Ebitda  \\\n",
       "0     Consumer Electronics        151.60  2487210213376  130633998336.0   \n",
       "1  Software—Infrastructure        251.90  1891260039168   94982995968.0   \n",
       "2       Auto Manufacturers        776.58   779888230400   12702000128.0   \n",
       "3    Insurance—Diversified        285.31   638886084608  125581000704.0   \n",
       "4         Healthcare Plans        531.59   500678590464   26390999040.0   \n",
       "\n",
       "   Revenuegrowth        Country  Fulltimeemployees    Weight  \n",
       "0          0.086  United States           154000.0  0.078540  \n",
       "1          0.184  United States           181000.0  0.059721  \n",
       "2          0.805  United States            99290.0  0.024627  \n",
       "3          0.115  United States           372000.0  0.020174  \n",
       "4          0.142  United States           350000.0  0.015810  "
      ]
     },
     "execution_count": 66,
     "metadata": {},
     "output_type": "execute_result"
    }
   ],
   "source": [
    "#Drop data which is not required for the analysis:\n",
    "df_spc= df_spc.drop(['Shortname','City','State','Longbusinesssummary'],axis = 1)\n",
    "df_spc.head()\n",
    "#Following columns will be useful for the analysis for our business issues."
   ]
  },
  {
   "cell_type": "code",
   "execution_count": 68,
   "metadata": {},
   "outputs": [
    {
     "data": {
      "text/plain": [
       "Exchange             0.0\n",
       "Symbol               0.0\n",
       "Longname             0.0\n",
       "Sector               0.0\n",
       "Industry             0.0\n",
       "Currentprice         0.0\n",
       "Marketcap            0.0\n",
       "Ebitda               0.0\n",
       "Revenuegrowth        0.0\n",
       "Country              0.0\n",
       "Fulltimeemployees    0.0\n",
       "Weight               0.0\n",
       "dtype: float64"
      ]
     },
     "execution_count": 68,
     "metadata": {},
     "output_type": "execute_result"
    }
   ],
   "source": [
    "#Check for duplicates and remove if any:\n",
    "df_spc_duplicates = df_spc[df_spc.duplicated()].sum()\n",
    "df_spc_duplicates\n",
    "#No duplicates"
   ]
  },
  {
   "cell_type": "markdown",
   "metadata": {
    "azdata_cell_guid": "53e0cf94-c68a-4fa0-9849-9505a66bcce6"
   },
   "source": [
    "## Inconsistent Data\n",
    "\n",
    "Check for inconsistent data and address any that arises. As always, use code comments to illustrate your thought process."
   ]
  },
  {
   "cell_type": "code",
   "execution_count": 36,
   "metadata": {
    "azdata_cell_guid": "e9de6624-812a-43f8-8e20-93b4a49b091f"
   },
   "outputs": [
    {
     "data": {
      "text/plain": [
       "(493, 16)"
      ]
     },
     "execution_count": 36,
     "metadata": {},
     "output_type": "execute_result"
    }
   ],
   "source": [
    "df_spc.shape\n",
    "#There are 493 records and 16 columns.\n",
    "#There should be 503 companies as part of s&p500.I will add missing companies financial constituents."
   ]
  },
  {
   "cell_type": "markdown",
   "metadata": {
    "azdata_cell_guid": "dedc0bfe-17d0-40b2-914f-2ddb54f9ce0d"
   },
   "source": [
    "## Summarize Your Results\n",
    "\n",
    "Make note of your answers to the following questions.\n",
    "\n",
    "1. Did you find all four types of dirty data in your dataset?\n",
    "Yes, there were dirty data which had missing values and unnecessary data.\n",
    "2. Did the process of cleaning your data give you new insights into your dataset?\n",
    "Yes, the data has got clarity after cleaning which gives new insight for the business issues.\n",
    "3. Is there anything you would like to make note of when it comes to manipulating the data and making visualizations?\n",
    "While manipulating and visualizing must note and filter the values replaced in the columns especially in 'EBITDA' column."
   ]
  },
  {
   "cell_type": "markdown",
   "metadata": {},
   "source": [
    "#Data Manipulation"
   ]
  },
  {
   "cell_type": "code",
   "execution_count": 3,
   "metadata": {},
   "outputs": [
    {
     "data": {
      "text/html": [
       "<div>\n",
       "<style scoped>\n",
       "    .dataframe tbody tr th:only-of-type {\n",
       "        vertical-align: middle;\n",
       "    }\n",
       "\n",
       "    .dataframe tbody tr th {\n",
       "        vertical-align: top;\n",
       "    }\n",
       "\n",
       "    .dataframe thead th {\n",
       "        text-align: right;\n",
       "    }\n",
       "</style>\n",
       "<table border=\"1\" class=\"dataframe\">\n",
       "  <thead>\n",
       "    <tr style=\"text-align: right;\">\n",
       "      <th></th>\n",
       "      <th>Date</th>\n",
       "      <th>Close/Last</th>\n",
       "      <th>Open</th>\n",
       "      <th>High</th>\n",
       "      <th>Low</th>\n",
       "    </tr>\n",
       "  </thead>\n",
       "  <tbody>\n",
       "    <tr>\n",
       "      <th>0</th>\n",
       "      <td>10/13/2023</td>\n",
       "      <td>4327.78</td>\n",
       "      <td>4360.49</td>\n",
       "      <td>4377.10</td>\n",
       "      <td>4311.97</td>\n",
       "    </tr>\n",
       "    <tr>\n",
       "      <th>1</th>\n",
       "      <td>10/12/2023</td>\n",
       "      <td>4349.61</td>\n",
       "      <td>4380.94</td>\n",
       "      <td>4385.85</td>\n",
       "      <td>4325.43</td>\n",
       "    </tr>\n",
       "    <tr>\n",
       "      <th>2</th>\n",
       "      <td>10/11/2023</td>\n",
       "      <td>4376.95</td>\n",
       "      <td>4366.59</td>\n",
       "      <td>4378.64</td>\n",
       "      <td>4345.34</td>\n",
       "    </tr>\n",
       "    <tr>\n",
       "      <th>3</th>\n",
       "      <td>10/10/2023</td>\n",
       "      <td>4358.24</td>\n",
       "      <td>4339.75</td>\n",
       "      <td>4385.46</td>\n",
       "      <td>4339.64</td>\n",
       "    </tr>\n",
       "    <tr>\n",
       "      <th>4</th>\n",
       "      <td>10/09/2023</td>\n",
       "      <td>4335.66</td>\n",
       "      <td>4289.02</td>\n",
       "      <td>4341.73</td>\n",
       "      <td>4283.79</td>\n",
       "    </tr>\n",
       "  </tbody>\n",
       "</table>\n",
       "</div>"
      ],
      "text/plain": [
       "         Date  Close/Last     Open     High      Low\n",
       "0  10/13/2023     4327.78  4360.49  4377.10  4311.97\n",
       "1  10/12/2023     4349.61  4380.94  4385.85  4325.43\n",
       "2  10/11/2023     4376.95  4366.59  4378.64  4345.34\n",
       "3  10/10/2023     4358.24  4339.75  4385.46  4339.64\n",
       "4  10/09/2023     4335.66  4289.02  4341.73  4283.79"
      ]
     },
     "execution_count": 3,
     "metadata": {},
     "output_type": "execute_result"
    }
   ],
   "source": [
    "df_spi.head()"
   ]
  },
  {
   "cell_type": "code",
   "execution_count": 1,
   "metadata": {},
   "outputs": [
    {
     "ename": "NameError",
     "evalue": "name 'Apple' is not defined",
     "output_type": "error",
     "traceback": [
      "\u001b[1;31m---------------------------------------------------------------------------\u001b[0m",
      "\u001b[1;31mNameError\u001b[0m                                 Traceback (most recent call last)",
      "Cell \u001b[1;32mIn[1], line 1\u001b[0m\n\u001b[1;32m----> 1\u001b[0m \u001b[43mApple\u001b[49m\u001b[38;5;241m.\u001b[39mhead()\n",
      "\u001b[1;31mNameError\u001b[0m: name 'Apple' is not defined"
     ]
    }
   ],
   "source": [
    "Apple.head()"
   ]
  },
  {
   "cell_type": "code",
   "execution_count": null,
   "metadata": {},
   "outputs": [],
   "source": [
    "Google.head()"
   ]
  },
  {
   "cell_type": "code",
   "execution_count": null,
   "metadata": {},
   "outputs": [],
   "source": [
    "Microsoft.head()"
   ]
  },
  {
   "cell_type": "code",
   "execution_count": null,
   "metadata": {},
   "outputs": [],
   "source": [
    "Tesla.head()"
   ]
  },
  {
   "cell_type": "code",
   "execution_count": null,
   "metadata": {},
   "outputs": [],
   "source": [
    "Amazon.head()"
   ]
  },
  {
   "cell_type": "code",
   "execution_count": null,
   "metadata": {},
   "outputs": [],
   "source": [
    "dfs=[Apple,Google,Microsoft,Amazon,Tesla]"
   ]
  },
  {
   "cell_type": "code",
   "execution_count": null,
   "metadata": {},
   "outputs": [],
   "source": [
    "for df in dfs:\n",
    "    df['MA50']=df.Close.rolling(50).mean()\n",
    "    df['MA200']=df.Close.rolling(200).mean()"
   ]
  },
  {
   "cell_type": "code",
   "execution_count": null,
   "metadata": {},
   "outputs": [],
   "source": [
    "Apple.head(200)"
   ]
  },
  {
   "cell_type": "code",
   "execution_count": null,
   "metadata": {},
   "outputs": [],
   "source": [
    "for df in dfs:\n",
    "    df['Previous day close Price']=df.Close.shift(1)"
   ]
  },
  {
   "cell_type": "code",
   "execution_count": null,
   "metadata": {},
   "outputs": [],
   "source": [
    "Apple.head()"
   ]
  },
  {
   "cell_type": "code",
   "execution_count": null,
   "metadata": {},
   "outputs": [],
   "source": [
    "for df in dfs:\n",
    "    df['Change in Price']=df['Close'] - df['Previous day close Price']"
   ]
  },
  {
   "cell_type": "code",
   "execution_count": null,
   "metadata": {},
   "outputs": [],
   "source": [
    "Apple.head()"
   ]
  },
  {
   "cell_type": "code",
   "execution_count": null,
   "metadata": {},
   "outputs": [],
   "source": [
    "for df in dfs:\n",
    "    df['Percent change in Price']=df.Close.pct_change()"
   ]
  },
  {
   "cell_type": "code",
   "execution_count": null,
   "metadata": {},
   "outputs": [],
   "source": [
    "Apple.head()"
   ]
  },
  {
   "cell_type": "code",
   "execution_count": null,
   "metadata": {},
   "outputs": [],
   "source": [
    "for df in dfs:\n",
    "    df['Previous day Volume']=df.Volume.shift(1)"
   ]
  },
  {
   "cell_type": "code",
   "execution_count": null,
   "metadata": {},
   "outputs": [],
   "source": [
    "Apple.head()"
   ]
  },
  {
   "cell_type": "code",
   "execution_count": null,
   "metadata": {},
   "outputs": [],
   "source": [
    "for df in dfs:\n",
    "    df['Change in Volume']=df['Volume']-df['Previous day Volume']"
   ]
  },
  {
   "cell_type": "code",
   "execution_count": null,
   "metadata": {},
   "outputs": [],
   "source": [
    "Apple.head()"
   ]
  },
  {
   "cell_type": "code",
   "execution_count": null,
   "metadata": {},
   "outputs": [],
   "source": [
    "for df in dfs:\n",
    "    df['Percent change in Volume']=df.Volume.pct_change()"
   ]
  },
  {
   "cell_type": "code",
   "execution_count": null,
   "metadata": {},
   "outputs": [],
   "source": [
    "Apple.head()"
   ]
  },
  {
   "cell_type": "code",
   "execution_count": null,
   "metadata": {},
   "outputs": [],
   "source": [
    "Apple.to_csv('Apple.csv')\n",
    "Microsoft.to_csv('Microsoft.csv')\n",
    "Google.to_csv('Google.csv')\n",
    "Amazon.to_csv('Amazon.csv')\n",
    "Tesla.to_csv('Tesla.csv')"
   ]
  }
 ],
 "metadata": {
  "kernelspec": {
   "display_name": "Python 3 (ipykernel)",
   "language": "python",
   "name": "python3"
  },
  "language_info": {
   "codemirror_mode": {
    "name": "ipython",
    "version": 3
   },
   "file_extension": ".py",
   "mimetype": "text/x-python",
   "name": "python",
   "nbconvert_exporter": "python",
   "pygments_lexer": "ipython3",
   "version": "3.10.9"
  }
 },
 "nbformat": 4,
 "nbformat_minor": 2
}
